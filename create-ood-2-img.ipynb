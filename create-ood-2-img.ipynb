{
 "cells": [
  {
   "cell_type": "code",
   "execution_count": 101,
   "id": "2365fab6-eecd-4f9d-888f-bed17ba42366",
   "metadata": {},
   "outputs": [],
   "source": [
    "import numpy as np\n",
    "import cv2 \n",
    "import matplotlib.pyplot as plt\n",
    "from scipy.ndimage.filters import gaussian_filter\n",
    "from PIL import Image,ImageEnhance\n",
    "%matplotlib inline "
   ]
  },
  {
   "cell_type": "code",
   "execution_count": 16,
   "id": "d446269a-4c7f-475b-8073-36f034c13e2b",
   "metadata": {},
   "outputs": [],
   "source": [
    "path = '/mnt/data2/akshit/data/pneumonia-mnist/'\n",
    "\n",
    "train = np.load(f'{path}pm_train.npz')\n",
    "val = np.load(f'{path}pm_val.npz')\n",
    "test = np.load(f'{path}pm_test.npz')"
   ]
  },
  {
   "cell_type": "code",
   "execution_count": 176,
   "id": "12252c3e-444c-4c45-8072-c2f50316d4f0",
   "metadata": {},
   "outputs": [
    {
     "data": {
      "text/plain": [
       "<matplotlib.image.AxesImage at 0x7f24089bd950>"
      ]
     },
     "execution_count": 176,
     "metadata": {},
     "output_type": "execute_result"
    },
    {
     "data": {
      "image/png": "[encoded data removed]",
      "text/plain": [
       "<Figure size 432x288 with 1 Axes>"
      ]
     },
     "metadata": {
      "needs_background": "light"
     },
     "output_type": "display_data"
    }
   ],
   "source": [
    "i=11\n",
    "a = train['images'][i]\n",
    "plt.title(\"Original Image\")\n",
    "plt.axis('off')\n",
    "plt.imshow(a,cmap='gray',interpolation='none')"
   ]
  },
  {
   "cell_type": "code",
   "execution_count": 80,
   "id": "90f4797d-fc04-420a-8dd0-157539816f13",
   "metadata": {},
   "outputs": [
    {
     "data": {
      "text/plain": [
       "<matplotlib.image.AxesImage at 0x7f240b3ffdd0>"
      ]
     },
     "execution_count": 80,
     "metadata": {},
     "output_type": "execute_result"
    },
    {
     "data": {
      "image/png": "[encoded data removed]",
      "text/plain": [
       "<Figure size 432x288 with 1 Axes>"
      ]
     },
     "metadata": {
      "needs_background": "light"
     },
     "output_type": "display_data"
    }
   ],
   "source": [
    "blurred = gaussian_filter(a, sigma=3)\n",
    "plt.imshow(blurred,cmap='gray',interpolation='none')"
   ]
  },
  {
   "cell_type": "markdown",
   "id": "28ee2b60-f70b-44d6-85b6-8d25a383b54b",
   "metadata": {
    "tags": []
   },
   "source": [
    "### Gaussian Blur Images (5 per image)\n"
   ]
  },
  {
   "cell_type": "code",
   "execution_count": 85,
   "id": "f4a03386-6151-4bde-9a1b-c71e84450469",
   "metadata": {},
   "outputs": [],
   "source": [
    "# for sigma in range(3,8):\n",
    "#     for i in range(len(train['images'])):\n",
    "#         im = Image.fromarray(gaussian_filter(train['images'][i], sigma))\n",
    "#         im.save(f'{path}ood-2/train/blur{sigma}{i}.png')\n",
    "#     for i in range(len(test['images'])):\n",
    "#         im = Image.fromarray(gaussian_filter(test['images'][i], sigma))\n",
    "#         im.save(f'{path}ood-2/test/blur{sigma}{i}.png')\n",
    "#     for i in range(len(val['images'])):\n",
    "#         im = Image.fromarray(gaussian_filter(val['images'][i], sigma))\n",
    "#         im.save(f'{path}ood-2/val/blur{sigma}{i}.png')\n",
    "\n"
   ]
  },
  {
   "cell_type": "code",
   "execution_count": 179,
   "id": "1dc1c264-6d9f-4ddf-b0d6-e4c17692bfc2",
   "metadata": {},
   "outputs": [
    {
     "data": {
      "text/plain": [
       "<matplotlib.image.AxesImage at 0x7f2408827550>"
      ]
     },
     "execution_count": 179,
     "metadata": {},
     "output_type": "execute_result"
    },
    {
     "data": {
      "image/png": "[encoded data removed]",
      "text/plain": [
       "<Figure size 432x288 with 1 Axes>"
      ]
     },
     "metadata": {
      "needs_background": "light"
     },
     "output_type": "display_data"
    }
   ],
   "source": [
    "im1 = Image.open(f'{path}ood-2/train/blur310.png')\n",
    "im2 = Image.open(f'{path}ood-2/train/blur410.png')\n",
    "im3 = Image.open(f'{path}ood-2/train/blur510.png')\n",
    "im4 = Image.open(f'{path}ood-2/train/blur610.png')\n",
    "im5 = Image.open(f'{path}ood-2/train/blur710.png')\n",
    "\n",
    "plt.title(\"Sigma=7\")\n",
    "plt.axis('off')\n",
    "# plt.imshow(im1,cmap='gray',interpolation='none')\n",
    "# plt.imshow(im2,cmap='gray',interpolation='none')\n",
    "# plt.imshow(im3,cmap='gray',interpolation='none')\n",
    "# plt.imshow(im4,cmap='gray',interpolation='none')\n",
    "plt.imshow(im5,cmap='gray',interpolation='none')"
   ]
  },
  {
   "cell_type": "markdown",
   "id": "07410ac2-3de8-45eb-bd00-c8b0adf10137",
   "metadata": {
    "tags": []
   },
   "source": [
    "### Rotations (3 per image)"
   ]
  },
  {
   "cell_type": "code",
   "execution_count": 100,
   "id": "2b2c703e-332e-460f-81ed-ed1f21faa037",
   "metadata": {},
   "outputs": [],
   "source": [
    "# for angle in [90,180,270]:\n",
    "#     for i in range(len(train['images'])):\n",
    "#         im = Image.fromarray(train['images'][i]).rotate(angle)\n",
    "#         im.save(f'{path}ood-2/train/rotate{angle}{i}.png')\n",
    "#     for i in range(len(test['images'])):\n",
    "#         im = Image.fromarray(test['images'][i]).rotate(angle)\n",
    "#         im.save(f'{path}ood-2/test/rotate{angle}{i}.png')\n",
    "#     for i in range(len(val['images'])):\n",
    "#         im = Image.fromarray(val['images'][i]).rotate(angle)\n",
    "#         im.save(f'{path}ood-2/val/rotate{angle}{i}.png')\n"
   ]
  },
  {
   "cell_type": "code",
   "execution_count": 135,
   "id": "522aca8d-1ee3-4edd-af68-4d98e1b80fac",
   "metadata": {},
   "outputs": [
    {
     "data": {
      "text/plain": [
       "<matplotlib.image.AxesImage at 0x7f2409d07b10>"
      ]
     },
     "execution_count": 135,
     "metadata": {},
     "output_type": "execute_result"
    },
    {
     "data": {
      "image/png": "[encoded data removed]",
      "text/plain": [
       "<Figure size 432x288 with 1 Axes>"
      ]
     },
     "metadata": {
      "needs_background": "light"
     },
     "output_type": "display_data"
    }
   ],
   "source": [
    "im = Image.fromarray(train['images'][1930])\n",
    "plt.imshow(im,cmap='gray',interpolation='none')"
   ]
  },
  {
   "cell_type": "markdown",
   "id": "d013b53a-450e-4159-a0e6-850549fd94dc",
   "metadata": {},
   "source": [
    "### Saturation "
   ]
  },
  {
   "cell_type": "code",
   "execution_count": 169,
   "id": "311eec51-73c6-4489-81bb-b72ae17eda2f",
   "metadata": {},
   "outputs": [],
   "source": [
    "# for factor in [0.02,0.03,0.04,0.05,0.06,1.4,1.5,1.6,1.7,1.8]:\n",
    "#     for i in range(len(train['images'])):\n",
    "#         im = ImageEnhance.Brightness(Image.fromarray(train['images'][i])).enhance(factor)\n",
    "#         im.save(f'{path}ood-2/train/expose{factor}{i}.png')\n",
    "#     for i in range(len(test['images'])):\n",
    "#         im = ImageEnhance.Brightness(Image.fromarray(test['images'][i])).enhance(factor)\n",
    "#         im.save(f'{path}ood-2/test/expose{factor}{i}.png')\n",
    "#     for i in range(len(val['images'])):\n",
    "#         im = ImageEnhance.Brightness(Image.fromarray(val['images'][i])).enhance(factor)\n",
    "#         im.save(f'{path}ood-2/val/expose{factor}{i}.png')"
   ]
  },
  {
   "cell_type": "code",
   "execution_count": 181,
   "id": "cc376f2a-fde2-4a5f-8e71-e321a28b9869",
   "metadata": {},
   "outputs": [
    {
     "data": {
      "text/plain": [
       "<matplotlib.image.AxesImage at 0x7f240870a6d0>"
      ]
     },
     "execution_count": 181,
     "metadata": {},
     "output_type": "execute_result"
    },
    {
     "data": {
      "image/png": "[encoded data removed]",
      "text/plain": [
       "<Figure size 432x288 with 1 Axes>"
      ]
     },
     "metadata": {
      "needs_background": "light"
     },
     "output_type": "display_data"
    }
   ],
   "source": [
    "im1 = Image.open(f'{path}ood-2/train/expose1.610.png')\n",
    "plt.imshow(im1,cmap='gray',interpolation='none')"
   ]
  },
  {
   "cell_type": "code",
   "execution_count": null,
   "id": "8dc5ff1c-9db3-4ffc-9665-e8f75d67dd24",
   "metadata": {},
   "outputs": [],
   "source": []
  }
 ],
 "metadata": {
  "kernelspec": {
   "display_name": "Python 3.7.5 64-bit",
   "language": "python",
   "name": "python375jvsc74a57bd0fd69f43f58546b570e94fd7eba7b65e6bcc7a5bbc4eab0408017d18902915d69"
  },
  "language_info": {
   "codemirror_mode": {
    "name": "ipython",
    "version": 3
   },
   "file_extension": ".py",
   "mimetype": "text/x-python",
   "name": "python",
   "nbconvert_exporter": "python",
   "pygments_lexer": "ipython3",
   "version": "3.7.5"
  }
 },
 "nbformat": 4,
 "nbformat_minor": 5
}
