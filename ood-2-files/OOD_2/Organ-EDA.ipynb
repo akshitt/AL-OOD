{
 "cells": [
  {
   "cell_type": "code",
   "execution_count": 39,
   "id": "e42fe6fb-8991-4bda-91d9-b2deea15b110",
   "metadata": {},
   "outputs": [],
   "source": [
    "import numpy as np\n",
    "import PIL\n",
    "import matplotlib.pyplot as plt"
   ]
  },
  {
   "cell_type": "code",
   "execution_count": 56,
   "id": "3aec14ff-b8e1-4210-9295-095e1a52bed0",
   "metadata": {},
   "outputs": [
    {
     "name": "stdout",
     "output_type": "stream",
     "text": [
      "(26940, 28, 28)\n"
     ]
    }
   ],
   "source": [
    "path = '/mnt/data2/akshit/data/organmnist/'\n",
    "c=np.load(f'{path}c/train.npz', allow_pickle=True)['images']\n",
    "s=np.load(f'{path}s/train.npz', allow_pickle=True)['images']\n",
    "data = np.concatenate((np.load(f'{path}c/train.npz', allow_pickle=True)['images'],np.load(f'{path}s/train.npz', allow_pickle=True)['images']))\n",
    "print(data.shape)\n",
    "# a = np.load(f'{path}organamnist.npz')\n",
    "# c = np.load(f'{path}organcmnist.npz')\n",
    "# s = np.load(f'{path}organsmnist.npz')\n",
    "# np.savez(f'{path}a/val.npz', images=a['val_images'], labels=a['val_labels'])\n",
    "# np.savez(f'{path}c/val.npz', images=c['val_images'], labels=c['val_labels'])\n",
    "# np.savez(f'{path}s/val.npz', images=s['val_images'], labels=s['val_labels'])"
   ]
  },
  {
   "cell_type": "code",
   "execution_count": null,
   "id": "2be9a979-417c-4b2a-bdcf-10631d1aa3e6",
   "metadata": {},
   "outputs": [],
   "source": [
    "a_train = np.load(f'{path}a/test.npz')\n",
    "print((np.unique(a_train['labels'], return_counts=True)))"
   ]
  },
  {
   "cell_type": "code",
   "execution_count": null,
   "id": "72c7cfeb-2e6b-4b6a-be8d-85d507103734",
   "metadata": {},
   "outputs": [],
   "source": [
    "labels,a_index = (np.unique(a['train_labels'], return_index=True))\n",
    "labels,c_index = (np.unique(c['train_labels'], return_index=True))\n",
    "labels,s_index = (np.unique(s['train_labels'], return_index=True))"
   ]
  },
  {
   "cell_type": "code",
   "execution_count": null,
   "id": "af4d5f26-2f36-4487-9d3a-4d54c4b85892",
   "metadata": {},
   "outputs": [],
   "source": [
    "# i=5\n",
    "# aa=a['train_images'][a_index[i]]\n",
    "# plt.title('Organ A MNIST')\n",
    "# plt.imshow(aa,cmap='gray',interpolation='none')\n",
    "# # plt.clf()\n",
    "# cc=c['train_images'][c_index[i]]\n",
    "# plt.title('Organ C MNIST')\n",
    "# plt.imshow(cc,cmap='gray',interpolation='none')\n",
    "# plt.clf()\n",
    "# ss=s['train_images'][s_index[i]]\n",
    "# plt.title('Organ S MNIST')\n",
    "# plt.imshow(ss,cmap='gray',interpolation='none')"
   ]
  },
  {
   "cell_type": "code",
   "execution_count": null,
   "id": "b1da1953-0976-4cd7-8f2e-943a76c99f08",
   "metadata": {},
   "outputs": [],
   "source": [
    "print(np.unique(a['train_labels'], return_counts=True))\n",
    "print(np.unique(c['train_labels'], return_counts=True))\n",
    "print(np.unique(s['train_labels'], return_counts=True))"
   ]
  },
  {
   "cell_type": "code",
   "execution_count": 38,
   "id": "3aea7d43-dc3d-425f-936a-393993b818bf",
   "metadata": {},
   "outputs": [
    {
     "data": {
      "text/plain": [
       "(array([ 0,  1,  2,  3,  4,  5,  6,  7,  8,  9, 10], dtype=uint8),\n",
       " array([300, 300, 300, 300, 300, 300, 300, 300, 300, 300, 300]))"
      ]
     },
     "execution_count": 38,
     "metadata": {},
     "output_type": "execute_result"
    }
   ],
   "source": [
    "# data = np.load(f'{path}s/test_balanced.npz')\n",
    "# np.unique(data['labels'], return_counts=True)"
   ]
  },
  {
   "cell_type": "code",
   "execution_count": 33,
   "id": "5349e7e1-a333-4e5a-8b82-98d23a44a38a",
   "metadata": {},
   "outputs": [
    {
     "name": "stdout",
     "output_type": "stream",
     "text": [
      "(array([ 0,  1,  2,  3,  4,  5,  6,  7,  8,  9, 10], dtype=uint8), array([300, 300, 300, 300, 300, 300, 300, 300, 300, 300, 300]))\n"
     ]
    }
   ],
   "source": [
    "balanced={'images':[],'labels':[]}\n",
    "label_count={0:0,1:0,2:0,3:0,4:0,5:0,6:0,7:0,8:0,9:0,10:0}\n",
    "labels = data['labels'].flatten()\n",
    "indices = []\n",
    "for i in range(8000):\n",
    "    if label_count[labels[i]]<300: \n",
    "        label_count[labels[i]]+=1\n",
    "        balanced['images'].append(data['images'][i])\n",
    "        balanced['labels'].append(labels[i])\n",
    "    \n",
    "print(np.unique(balanced['labels'], return_counts=True))"
   ]
  },
  {
   "cell_type": "code",
   "execution_count": 34,
   "id": "8eb05043-318e-4814-b46d-f9a837ccc174",
   "metadata": {},
   "outputs": [],
   "source": [
    "np.savez(f'{path}s/test_balanced.npz', images=balanced['images'], labels=balanced['labels'])"
   ]
  },
  {
   "cell_type": "code",
   "execution_count": null,
   "id": "f7223966-7e81-483a-bf1f-47076f590c0d",
   "metadata": {},
   "outputs": [],
   "source": [
    "b=np.average([[1,2],[1,2],[2,3]],axis=0)\n",
    "print(b)"
   ]
  }
 ],
 "metadata": {
  "kernelspec": {
   "display_name": "Python 3.7.5 64-bit",
   "language": "python",
   "name": "python375jvsc74a57bd0fd69f43f58546b570e94fd7eba7b65e6bcc7a5bbc4eab0408017d18902915d69"
  },
  "language_info": {
   "codemirror_mode": {
    "name": "ipython",
    "version": 3
   },
   "file_extension": ".py",
   "mimetype": "text/x-python",
   "name": "python",
   "nbconvert_exporter": "python",
   "pygments_lexer": "ipython3",
   "version": "3.7.5"
  }
 },
 "nbformat": 4,
 "nbformat_minor": 5
}
