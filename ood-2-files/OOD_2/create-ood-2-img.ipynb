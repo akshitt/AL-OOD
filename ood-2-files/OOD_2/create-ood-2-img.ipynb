{
 "cells": [
  {
   "cell_type": "code",
   "execution_count": 30,
   "id": "2365fab6-eecd-4f9d-888f-bed17ba42366",
   "metadata": {},
   "outputs": [],
   "source": [
    "import numpy as np\n",
    "import cv2 \n",
    "import matplotlib.pyplot as plt\n",
    "from scipy.ndimage.filters import gaussian_filter\n",
    "from PIL import Image,ImageEnhance\n",
    "import torch\n",
    "import torchvision.transforms as T\n",
    "import random\n",
    "%matplotlib inline "
   ]
  },
  {
   "cell_type": "code",
   "execution_count": 31,
   "id": "d446269a-4c7f-475b-8073-36f034c13e2b",
   "metadata": {},
   "outputs": [],
   "source": [
    "path = '/mnt/data2/akshit/data/organmnist/a/'\n",
    "\n",
    "train = np.load(f'{path}train.npz')\n",
    "val = np.load(f'{path}val.npz')\n",
    "test = np.load(f'{path}test.npz')"
   ]
  },
  {
   "cell_type": "code",
   "execution_count": 39,
   "id": "12252c3e-444c-4c45-8072-c2f50316d4f0",
   "metadata": {},
   "outputs": [
    {
     "name": "stdout",
     "output_type": "stream",
     "text": [
      "[9]\n"
     ]
    },
    {
     "data": {
      "text/plain": [
       "<matplotlib.image.AxesImage at 0x7ff3d21658d0>"
      ]
     },
     "execution_count": 39,
     "metadata": {},
     "output_type": "execute_result"
    },
    {
     "data": {
      "image/png": "[encoded data removed]",
      "text/plain": [
       "<Figure size 432x288 with 1 Axes>"
      ]
     },
     "metadata": {
      "needs_background": "light"
     },
     "output_type": "display_data"
    }
   ],
   "source": [
    "i=11\n",
    "a = train['images'][i]\n",
    "print(train['labels'][i])\n",
    "# plt.title(\"Original Image\")\n",
    "plt.axis('off')\n",
    "plt.imshow(a,cmap='gray',interpolation='none')"
   ]
  },
  {
   "cell_type": "code",
   "execution_count": 5,
   "id": "90f4797d-fc04-420a-8dd0-157539816f13",
   "metadata": {},
   "outputs": [
    {
     "data": {
      "text/plain": [
       "<matplotlib.image.AxesImage at 0x7ff3cedd7050>"
      ]
     },
     "execution_count": 5,
     "metadata": {},
     "output_type": "execute_result"
    },
    {
     "data": {
      "image/png": "[encoded data removed]",
      "text/plain": [
       "<Figure size 432x288 with 1 Axes>"
      ]
     },
     "metadata": {
      "needs_background": "light"
     },
     "output_type": "display_data"
    }
   ],
   "source": [
    "blurred = gaussian_filter(a, sigma=3)\n",
    "plt.axis('off')\n",
    "plt.imshow(blurred,cmap='gray',interpolation='none')"
   ]
  },
  {
   "cell_type": "markdown",
   "id": "28ee2b60-f70b-44d6-85b6-8d25a383b54b",
   "metadata": {
    "tags": []
   },
   "source": [
    "### Gaussian Blur Images (5 per image)\n"
   ]
  },
  {
   "cell_type": "code",
   "execution_count": 20,
   "id": "f4a03386-6151-4bde-9a1b-c71e84450469",
   "metadata": {},
   "outputs": [],
   "source": [
    "import random\n",
    "a = [random.randint(0,len(train['images'])) for i in range(500)]\n",
    "\n",
    "for sigma in range(3,7):\n",
    "    for i in a:\n",
    "        im = Image.fromarray(gaussian_filter(train['images'][i], sigma))\n",
    "        im.save(f'{path}ood-2/train/blur{sigma}{i}.png')"
   ]
  },
  {
   "cell_type": "code",
   "execution_count": 21,
   "id": "1dc1c264-6d9f-4ddf-b0d6-e4c17692bfc2",
   "metadata": {},
   "outputs": [
    {
     "data": {
      "text/plain": [
       "<matplotlib.image.AxesImage at 0x7f3ecbda4090>"
      ]
     },
     "execution_count": 21,
     "metadata": {},
     "output_type": "execute_result"
    },
    {
     "data": {
      "image/png": "[encoded data removed]",
      "text/plain": [
       "<Figure size 432x288 with 1 Axes>"
      ]
     },
     "metadata": {
      "needs_background": "light"
     },
     "output_type": "display_data"
    }
   ],
   "source": [
    "# im1 = Image.open(f'{path}ood-2/train/blur310.png')\n",
    "# im2 = Image.open(f'{path}ood-2/train/blur410.png')\n",
    "# im3 = Image.open(f'{path}ood-2/train/blur510.png')\n",
    "# im4 = Image.open(f'{path}ood-2/train/blur610.png')\n",
    "# im5 = Image.open(f'{path}ood-2/train/blur210.png')\n",
    "\n",
    "# plt.title(\"Sigma=7\")\n",
    "# plt.axis('off')\n",
    "# plt.imshow(im4,cmap='gray',interpolation='none')"
   ]
  },
  {
   "cell_type": "markdown",
   "id": "d013b53a-450e-4159-a0e6-850549fd94dc",
   "metadata": {},
   "source": [
    "### Saturation "
   ]
  },
  {
   "cell_type": "code",
   "execution_count": 21,
   "id": "311eec51-73c6-4489-81bb-b72ae17eda2f",
   "metadata": {},
   "outputs": [],
   "source": [
    "a = [random.randint(0,len(train['images'])) for i in range(500)]\n",
    "for factor in [0.008,0.009,0.01,2,3,4]:\n",
    "    for i in a:\n",
    "        im = ImageEnhance.Brightness(Image.fromarray(train['images'][i])).enhance(factor)\n",
    "        im.save(f'{path}ood-2/train/expose{factor}{i}.png')\n",
    "    # for i in range(len(test['images'])):\n",
    "    #     im = ImageEnhance.Brightness(Image.fromarray(test['images'][i])).enhance(factor)\n",
    "    #     im.save(f'{path}ood-2/test/expose{factor}{i}.png')\n",
    "    # for i in range(len(val['images'])):\n",
    "    #     im = ImageEnhance.Brightness(Image.fromarray(val['images'][i])).enhance(factor)\n",
    "    #     im.save(f'{path}ood-2/val/expose{factor}{i}.png')"
   ]
  },
  {
   "cell_type": "code",
   "execution_count": 11,
   "id": "cc376f2a-fde2-4a5f-8e71-e321a28b9869",
   "metadata": {},
   "outputs": [
    {
     "data": {
      "text/plain": [
       "<matplotlib.image.AxesImage at 0x7ff3ceb2a9d0>"
      ]
     },
     "execution_count": 11,
     "metadata": {},
     "output_type": "execute_result"
    },
    {
     "data": {
      "image/png": "[encoded data removed]",
      "text/plain": [
       "<Figure size 432x288 with 1 Axes>"
      ]
     },
     "metadata": {
      "needs_background": "light"
     },
     "output_type": "display_data"
    }
   ],
   "source": [
    "\n",
    "plt.axis('off')\n",
    "plt.imshow(blurred,cmap='gray',interpolation='none')\n",
    "im = ImageEnhance.Brightness(Image.fromarray(a)).enhance(0.009)\n",
    "plt.imshow(im,cmap='gray',interpolation='none')"
   ]
  },
  {
   "cell_type": "code",
   "execution_count": 23,
   "id": "2a58eb16-6377-42a5-9877-5d0ba8f0f553",
   "metadata": {},
   "outputs": [
    {
     "data": {
      "text/plain": [
       "<matplotlib.image.AxesImage at 0x7f33d6454f90>"
      ]
     },
     "execution_count": 23,
     "metadata": {},
     "output_type": "execute_result"
    },
    {
     "data": {
      "image/png": "[encoded data removed]",
      "text/plain": [
       "<Figure size 432x288 with 1 Axes>"
      ]
     },
     "metadata": {
      "needs_background": "light"
     },
     "output_type": "display_data"
    }
   ],
   "source": [
    "im = ImageEnhance.Brightness(Image.fromarray(train['images'][5])).enhance(3)\n",
    "plt.imshow(im,cmap='gray',interpolation='none')"
   ]
  },
  {
   "cell_type": "code",
   "execution_count": 65,
   "id": "32aba65f-7e74-457d-9eca-c2c89f155170",
   "metadata": {},
   "outputs": [
    {
     "data": {
      "text/plain": [
       "<matplotlib.image.AxesImage at 0x7f3efe4a6f10>"
      ]
     },
     "execution_count": 65,
     "metadata": {},
     "output_type": "execute_result"
    },
    {
     "data": {
      "image/png": "[encoded data removed]",
      "text/plain": [
       "<Figure size 432x288 with 1 Axes>"
      ]
     },
     "metadata": {
      "needs_background": "light"
     },
     "output_type": "display_data"
    }
   ],
   "source": [
    "im5 = Image.open(f'{path}ood-2/train/expose23.png')\n",
    "\n",
    "plt.title(\"Sigma=7\")\n",
    "plt.axis('off')\n",
    "plt.imshow(im5,cmap='gray',interpolation='none')"
   ]
  },
  {
   "cell_type": "markdown",
   "id": "198e50ab-9630-4009-91a7-3de6f963ba2d",
   "metadata": {},
   "source": [
    "### Random Crop"
   ]
  },
  {
   "cell_type": "markdown",
   "id": "b98de046-c99a-4e41-a1ea-b87708a55662",
   "metadata": {},
   "source": [
    "### Padding"
   ]
  },
  {
   "cell_type": "code",
   "execution_count": 19,
   "id": "a9b52f1b-1915-4d20-b770-6bf018dcb4a7",
   "metadata": {},
   "outputs": [
    {
     "data": {
      "text/plain": [
       "<matplotlib.image.AxesImage at 0x7ff3ce6dafd0>"
      ]
     },
     "execution_count": 19,
     "metadata": {},
     "output_type": "execute_result"
    },
    {
     "data": {
      "image/png": "[encoded data removed]",
      "text/plain": [
       "<Figure size 432x288 with 1 Axes>"
      ]
     },
     "metadata": {
      "needs_background": "light"
     },
     "output_type": "display_data"
    }
   ],
   "source": [
    "transform = T.RandomCrop(random.randint(15,20),padding=random.randint(5,10))\n",
    "img = Image.fromarray(a)\n",
    "img = transform(img)\n",
    "plt.axis('off')\n",
    "plt.imshow(img,cmap='gray',interpolation='none')"
   ]
  },
  {
   "cell_type": "code",
   "execution_count": 22,
   "id": "326d1e05-0101-4d01-83f7-3e9b0ff5ac85",
   "metadata": {},
   "outputs": [],
   "source": [
    "a = [random.randint(0,len(train['images'])) for i in range(500)]\n",
    "\n",
    "for factor in range(5):\n",
    "    for i in a:\n",
    "        transform = T.RandomCrop(random.randint(15,20),padding=random.randint(5,10))\n",
    "        im = transform(Image.fromarray(train['images'][i]))\n",
    "        im = im.resize((28,28))\n",
    "        im.save(f'{path}ood-2/train/crop{factor}{i}.png')"
   ]
  },
  {
   "cell_type": "code",
   "execution_count": 288,
   "id": "fc697efc-e90c-4de8-9d7c-d045d79e25ab",
   "metadata": {},
   "outputs": [
    {
     "data": {
      "text/plain": [
       "<matplotlib.image.AxesImage at 0x7f3e7d98b610>"
      ]
     },
     "execution_count": 288,
     "metadata": {},
     "output_type": "execute_result"
    },
    {
     "data": {
      "image/png": "[encoded data removed]",
      "text/plain": [
       "<Figure size 432x288 with 1 Axes>"
      ]
     },
     "metadata": {
      "needs_background": "light"
     },
     "output_type": "display_data"
    }
   ],
   "source": [
    "im = Image.open(f'{path}ood-2/train/crop25.png')\n",
    "\n",
    "plt.title(\"Sigma=7\")\n",
    "# plt.axis('off')\n",
    "plt.imshow(im,cmap='gray',interpolation='none')"
   ]
  },
  {
   "cell_type": "code",
   "execution_count": null,
   "id": "befc5718-e2cd-496f-ad83-a573fd5f6877",
   "metadata": {},
   "outputs": [],
   "source": []
  }
 ],
 "metadata": {
  "kernelspec": {
   "display_name": "Python 3.7.5 64-bit",
   "language": "python",
   "name": "python375jvsc74a57bd0fd69f43f58546b570e94fd7eba7b65e6bcc7a5bbc4eab0408017d18902915d69"
  },
  "language_info": {
   "codemirror_mode": {
    "name": "ipython",
    "version": 3
   },
   "file_extension": ".py",
   "mimetype": "text/x-python",
   "name": "python",
   "nbconvert_exporter": "python",
   "pygments_lexer": "ipython3",
   "version": "3.7.5"
  }
 },
 "nbformat": 4,
 "nbformat_minor": 5
}
